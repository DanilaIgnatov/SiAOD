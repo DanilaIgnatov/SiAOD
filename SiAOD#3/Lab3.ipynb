{
 "cells": [
  {
   "cell_type": "markdown",
   "metadata": {},
   "source": [
    "# Лабораторная работа №3"
   ]
  },
  {
   "cell_type": "markdown",
   "metadata": {},
   "source": [
    "#### Алгоритм Кнута-Морриса-Пратта (КМП)"
   ]
  },
  {
   "cell_type": "markdown",
   "metadata": {},
   "source": [
    "Идея КМП-поиска – при каждом несовпадении двух символов текста и образа образ сдвигается на все пройденное расстояние, так как меньшие сдвиги не могут привести к полному совпадению. Для реализации данного алгоритма, нам необходимо рассмотреть, так называемую, префикс функцию.\n",
    "\n",
    "Префикс-функция - это массив чисел, вычисляющийся, как наибольшая длина суффикса, совпадающего с её префиксом. Как пример, берем каждый возможный префикс строки и смотрим самое длинное совпадение начала с концом префикса (не учитывая тривиальное совпадение самого с собой). Зная длину совпадения префикса с суффиксом по предыдущей букве, мы можем начать поиск сразу с этой позиции (d[j-1]) и продвигаясь вперед либо увеличивать данное значение (суффикс равный префиксу продолжит свой рост), либо обнуляется (нет совпадения)."
   ]
  },
  {
   "cell_type": "code",
   "execution_count": 2,
   "metadata": {},
   "outputs": [],
   "source": [
    "def predkomp(x):\n",
    "    d = {0:0}\n",
    "    for i in range(1,len(x)):\n",
    "        j = d[i-1]#эту строку мы заменили\n",
    "        while j > 0 and x[j] != x[i]:\n",
    "            j = d[j-1]\n",
    "        if x[j] == x[i]:\n",
    "            j += 1\n",
    "        d[i] = j\n",
    "    return d\n",
    "\n",
    "\n",
    "def kmpSearch(s, x):\n",
    "    d = predkomp(x)\n",
    "    i = j = 0\n",
    "    while i<len(s) and j<len(x):\n",
    "        if x[j] == s[i]:\n",
    "            i+=1\n",
    "            j+=1\n",
    "        elif j==0:\n",
    "            i+=1\n",
    "        else:\n",
    "            j = d[j-1]\n",
    "    else:\n",
    "        if j == len(x):\n",
    "            return \"Нашли. Позиция %d.\" %((i - j) + 1)\n",
    "        return \"Не нашли!\""
   ]
  },
  {
   "cell_type": "markdown",
   "metadata": {},
   "source": [
    "#### Алгоритм Бойера - Мура"
   ]
  },
  {
   "cell_type": "markdown",
   "metadata": {},
   "source": [
    "Основная идея алгоритм - начать поиск не с начала, а с конца подстроки. Наткнувшись на несовпадение, мы просто смещаем подстроку до самого правого вхождения данного символа."
   ]
  },
  {
   "cell_type": "code",
   "execution_count": 3,
   "metadata": {},
   "outputs": [],
   "source": [
    "def forming_d(pattern):\n",
    "    \"\"\" Формируем массив d.\"\"\"\n",
    "    d = [len(pattern) for i in range(1105)]\n",
    "    new_p = pattern[::-1]\n",
    " \n",
    "    for i in range(len(new_p)):\n",
    "        if d[ord(new_p[i])] != len(new_p):\n",
    "            continue\n",
    "        else:\n",
    "            d[ord(new_p[i])] = i\n",
    "    return d\n",
    " \n",
    " \n",
    "def search(string, pattern):\n",
    "    \"\"\" Поиск Бойера - Мура.\"\"\"\n",
    " \n",
    "    d = forming_d(pattern)\n",
    "    # x - начало прохода по string\n",
    "    # j - проход по pattern\n",
    "    # k - проход по string\n",
    "    len_p = x = j = k = len(pattern)\n",
    "    # число смещений\n",
    "    counter = 0\n",
    " \n",
    "    while x <= len(string) and j > 0:\n",
    "        if pattern[j - 1] == string[k - 1]:\n",
    "            j -= 1\n",
    "            k -= 1\n",
    "        else:\n",
    "            x += d[ord(string[k - 1])]\n",
    "            k = x\n",
    "            j = len_p\n",
    "            counter += 1\n",
    " \n",
    "    if j <= 0:\n",
    "        return \"Нашли. Позиция %d.\" % (k + 1)\n",
    "    else:\n",
    "        return \"Не нашли!\"\n",
    "\n"
   ]
  },
  {
   "cell_type": "markdown",
   "metadata": {},
   "source": [
    "#### Встроенная функция поиска"
   ]
  },
  {
   "cell_type": "code",
   "execution_count": 4,
   "metadata": {},
   "outputs": [],
   "source": [
    "def poisk(string2, pattern2):\n",
    "    if string2.find(pattern2) != -1:\n",
    "        return \"Нашли. Позиция %d.\" %(string2.find(pattern2) + 1)\n",
    "    else:\n",
    "        return \"Не нашли!\"\n"
   ]
  },
  {
   "cell_type": "markdown",
   "metadata": {},
   "source": [
    "#### Основной блок программы"
   ]
  },
  {
   "cell_type": "code",
   "execution_count": 5,
   "metadata": {},
   "outputs": [
    {
     "name": "stdout",
     "output_type": "stream",
     "text": [
      "Введите строку: Это тест программы. Проверка работы алгоритмов и встроенной функции поиска\n",
      "Введите подстроку: амм\n",
      "\n",
      "Нашли. Позиция 15.\n",
      "\n",
      "Нашли. Позиция 15.\n",
      "\n",
      "Нашли. Позиция 15.\n"
     ]
    }
   ],
   "source": [
    "string2 = string1 = string = input(\"Введите строку: \")\n",
    "pattern2 = pattern1 = pattern = input(\"Введите подстроку: \")\n",
    "print(\"\")\n",
    "print(search(string, pattern))\n",
    "\n",
    "print(\"\")\n",
    "print(kmpSearch(string1, pattern1))\n",
    "\n",
    "print(\"\")\n",
    "print(poisk(string2, pattern2))"
   ]
  },
  {
   "cell_type": "markdown",
   "metadata": {},
   "source": [
    "Стоит заметить, что счет ведет с 1, а не с 0"
   ]
  },
  {
   "cell_type": "code",
   "execution_count": null,
   "metadata": {},
   "outputs": [],
   "source": []
  }
 ],
 "metadata": {
  "kernelspec": {
   "display_name": "Python 3",
   "language": "python",
   "name": "python3"
  },
  "language_info": {
   "codemirror_mode": {
    "name": "ipython",
    "version": 3
   },
   "file_extension": ".py",
   "mimetype": "text/x-python",
   "name": "python",
   "nbconvert_exporter": "python",
   "pygments_lexer": "ipython3",
   "version": "3.8.5"
  }
 },
 "nbformat": 4,
 "nbformat_minor": 4
}

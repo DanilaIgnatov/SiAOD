{
 "cells": [
  {
   "cell_type": "markdown",
   "metadata": {},
   "source": [
    "# Лабораторная работа №2\n",
    "\n",
    "# Часть 2\n",
    "\n",
    "# Рехэширование"
   ]
  },
  {
   "cell_type": "markdown",
   "metadata": {},
   "source": [
    "В данной части второй лабораторной работы будут рассмотрены три вида рехэширования: простое рехэширование, рехэширование с помощью рандомных чисел, метод цепочек"
   ]
  },
  {
   "cell_type": "markdown",
   "metadata": {},
   "source": [
    "## Простое рехэширование"
   ]
  },
  {
   "cell_type": "markdown",
   "metadata": {},
   "source": [
    "Согласно данному методу, если для элемента А адрес п() = h|A|, указывает на уже занятую ячейку, то есть в случае возникновения коллизии, необходимо вычислить значение функции n1 = h1|A| и проверить занятость ячейки по адресу n1. Если и она занята, то вычисляется значение h2|A|. И так до тех пор, пока либо не будет найдена свободная ячейка, либо очередное значение hi|A| не совпадет с h|A|. В последнем случае считается, что таблица идентификаторов заполнена и места в ней больше нет выдается сообщение об ошибке размещения идентификатора в таблице."
   ]
  },
  {
   "cell_type": "markdown",
   "metadata": {},
   "source": [
    "### Код прогргаммы"
   ]
  },
  {
   "cell_type": "code",
   "execution_count": 1,
   "metadata": {},
   "outputs": [],
   "source": [
    "\"\"\"\n",
    "A simple rehashing class is described here. \n",
    "The class contains three methods: add, search, and delete. \n",
    "A short guide to the variables that are used in simple rehashing.\n",
    "\n",
    "table -> table where we add IDs\n",
    "id - > IDs that we add to the table\n",
    "hash - > hash code IDs\n",
    "answer -> accepts user responses\n",
    "i - > cycle counter\n",
    "n, k -> auxiliary variables \n",
    "\"\"\"\n",
    "\n",
    "\n",
    "class SimpleRehashing:\n",
    "    def AddSimpleRehashing (table, id):\n",
    "        n=64\n",
    "        i=0\n",
    "        hash = (ord(id[0])+ord(id[len(id)//2])+ord(id[len(id)-1])+i)//n\n",
    "        if table[hash] == None:\n",
    "            table[hash]=id\n",
    "        else:\n",
    "            k=hash\n",
    "            i=i+1\n",
    "            while (table[hash]!=None) and (hash !=255):\n",
    "                hash = (ord(id[0])+ord(id[len(id)//2])+ord(id[len(id)-1])+i)//n\n",
    "                i=i+1\n",
    "            if table[hash] == None:\n",
    "                table[hash]=id\n",
    "            else:\n",
    "                hash = i//n\n",
    "                while (table[hash]!=None) or (hash !=k):\n",
    "                    hash = i//n\n",
    "                    i=i+1\n",
    "                if table[hash] == None:\n",
    "                    table[hash]=id\n",
    "                else:\n",
    "                    print (\"There are no places in the table\")\n",
    "        return table\n",
    "    \n",
    "    def SearchSimpleRehashing (table, id):\n",
    "        n=256\n",
    "        i=0\n",
    "        hash = (ord(id[0])+ord(id[len(id)//2])+ord(id[len(id)-1])+i)//n\n",
    "        if table[hash] == id:\n",
    "            return hash\n",
    "        else:\n",
    "            k=hash\n",
    "            i=i+1\n",
    "            while (table[hash]!=id) and (hash !=255):\n",
    "                hash = (ord(id[0])+ord(id[len(id)//2])+ord(id[len(id)-1])+i)//n\n",
    "                i=i+1\n",
    "        if table[hash] == id:\n",
    "            return hash\n",
    "        else:\n",
    "            hash = i//n\n",
    "            while (table[hash]!=id) and (hash <250):\n",
    "                hash = i//n\n",
    "                i=i+1\n",
    "            if table[hash] == id:\n",
    "                return hash\n",
    "            else:\n",
    "                print (\"ID not found\")\n",
    "    def DeleteSimpleRehashing (table, id, n):\n",
    "        table[n]=None\n",
    "        return (table)\n",
    "\n"
   ]
  },
  {
   "cell_type": "code",
   "execution_count": 3,
   "metadata": {},
   "outputs": [
    {
     "name": "stdout",
     "output_type": "stream",
     "text": [
      "Want to add a new ID to the table? Yes or not?\n",
      "yes\n",
      "18\n",
      "Want to add a new ID to the table? Yes or not?\n",
      "yes\n",
      "9\n",
      "Want to add a new ID to the table? Yes or not?\n",
      "yes\n",
      "542\n",
      "Want to add a new ID to the table? Yes or not?\n",
      "no\n",
      "[None, None, '18', '9', '542', None, None, None, None, None, None, None, None, None, None, None, None, None, None, None, None, None, None, None, None, None, None, None, None, None, None, None, None, None, None, None, None, None, None, None, None, None, None, None, None, None, None, None, None, None, None, None, None, None, None, None, None, None, None, None, None, None, None, None]\n",
      "Do you want to find the ID in the table? Yes or not?\n",
      "yes\n",
      "9\n",
      "3\n",
      "Do you want to find the ID in the table? Yes or not?\n",
      "nno\n",
      "Do you want to remove the ID from the table? Yes or not?\n",
      "yes\n",
      "[None, None, '18', None, '542', None, None, None, None, None, None, None, None, None, None, None, None, None, None, None, None, None, None, None, None, None, None, None, None, None, None, None, None, None, None, None, None, None, None, None, None, None, None, None, None, None, None, None, None, None, None, None, None, None, None, None, None, None, None, None, None, None, None, None]\n"
     ]
    }
   ],
   "source": [
    "table=[None]*64\n",
    "print (\"Want to add a new ID to the table? Yes or not?\")\n",
    "answer=(input())\n",
    "if answer == \"yes\":\n",
    "    while answer ==\"yes\":\n",
    "        id=(input())\n",
    "        SimpleRehashing.AddSimpleRehashing (table, id)\n",
    "        print (\"Want to add a new ID to the table? Yes or not?\")\n",
    "        answer=(input())\n",
    "print (table)\n",
    "print (\"Do you want to find the ID in the table? Yes or not?\")\n",
    "answer=(input())\n",
    "if answer == \"yes\":\n",
    "    while answer ==\"yes\":\n",
    "        id=(input())\n",
    "        hash =SimpleRehashing.SearchSimpleRehashing (table, id)\n",
    "        print (hash)\n",
    "        print (\"Do you want to find the ID in the table? Yes or not?\")\n",
    "        answer=(input())\n",
    "    if hash!= None:\n",
    "        print (\"Do you want to remove the ID from the table? Yes or not?\")\n",
    "        answer=(input())\n",
    "        if answer == \"yes\":\n",
    "            SimpleRehashing.DeleteSimpleRehashing(table, id, hash)\n",
    "            print (table)"
   ]
  },
  {
   "cell_type": "markdown",
   "metadata": {},
   "source": [
    "      "
   ]
  },
  {
   "cell_type": "markdown",
   "metadata": {},
   "source": [
    "        "
   ]
  },
  {
   "cell_type": "markdown",
   "metadata": {},
   "source": [
    "## Рехэширование с помощью случайных чисел"
   ]
  },
  {
   "cell_type": "markdown",
   "metadata": {},
   "source": [
    "Случайное рехеширование реализуется путём выбора в качестве значений последовательности псевдослучайных чисел. Для генерации такой последовательности требуется датчик случайных чисел, который формирует все числа строго 1 раз. Такой датчик позволяет воспроизводить одну и ту же последовательность при одинаковых исходных данных. За счёт этого обеспечится возможность поиска имён среди уже записанных в таблицу.\n",
    "\n"
   ]
  },
  {
   "cell_type": "markdown",
   "metadata": {},
   "source": [
    "### Код программы"
   ]
  },
  {
   "cell_type": "code",
   "execution_count": 6,
   "metadata": {},
   "outputs": [],
   "source": [
    "\"\"\"\n",
    "A rehashing pseudorandom numbers class is described here. \n",
    "The class contains three methods: add, search, and delete. \n",
    "A short guide to the variables that are used in rehashing pseudorandom numbers.\n",
    "\n",
    "table -> table where we add IDs\n",
    "id - > IDs that we add to the table\n",
    "hash - > hash code IDs\n",
    "answer -> accepts user responses\n",
    "i - > cycle \"for\" or \"while\" counter\n",
    "n, k -> auxiliary variables \n",
    "\"\"\"\n",
    "\n",
    "\n",
    "class RehashingPseudorandomNumbers:\n",
    "    def AddRehashingPseudorandomNumbers (table, id, i):\n",
    "        import random\n",
    "        i=i+1\n",
    "        if i<63:\n",
    "            n=64\n",
    "            hash = (ord(id[0])+ord(id[len(id)//2])+ord(id[len(id)-1])+random.randint(0, 1500))//n\n",
    "            if table[hash] == None:\n",
    "                table[hash]=id\n",
    "            else:\n",
    "                k=hash\n",
    "                while (table[hash]!=None):\n",
    "                    hash = (ord(id[0])+ord(id[len(id)//2])+ord(id[len(id)-1])+random.randint(0, 1500))//n\n",
    "\n",
    "        else:\n",
    "            print (\"There are no places in the table\")\n",
    "        return table\n",
    "    def SearchRehashingPseudorandomNumbers(table, id):\n",
    "        i=0\n",
    "        while i<63 and table[i]!=id:\n",
    "            i=i+1\n",
    "        if table[i]==id:\n",
    "            return i\n",
    "        else:\n",
    "             print (\"ID not found\") \n",
    "    def DeleteRehashingPseudorandomNumbers(table, id):\n",
    "        i=0\n",
    "        while i<63 and table[i]!=id:\n",
    "            i=i+1\n",
    "        if table[i]==id:\n",
    "            table[i]=None\n",
    "            return table\n",
    "        else:\n",
    "             print (\"ID not found\")\n"
   ]
  },
  {
   "cell_type": "code",
   "execution_count": 7,
   "metadata": {},
   "outputs": [
    {
     "name": "stdout",
     "output_type": "stream",
     "text": [
      "Want to add a new ID to the table? Yes or not?\n",
      "yes\n",
      "17\n",
      "Want to add a new ID to the table? Yes or not?\n",
      "yes\n",
      "3\n",
      "Want to add a new ID to the table? Yes or not?\n",
      "yes\n",
      "52\n",
      "Want to add a new ID to the table? Yes or not?\n",
      "yes\n",
      "195\n",
      "Want to add a new ID to the table? Yes or not?\n",
      "no\n",
      "[None, None, None, None, None, None, None, '195', None, None, None, None, None, None, '52', None, None, None, None, None, None, '3', None, None, '17', None, None, None, None, None, None, None, None, None, None, None, None, None, None, None, None, None, None, None, None, None, None, None, None, None, None, None, None, None, None, None, None, None, None, None, None, None, None, None]\n",
      "Do you want to find the ID in the table? Yes or not?\n",
      "yes\n",
      "3\n",
      "21\n",
      "Do you want to find the ID in the table? Yes or not?\n",
      "yes\n",
      "195\n",
      "7\n",
      "Do you want to find the ID in the table? Yes or not?\n",
      "yes\n",
      "45\n",
      "ID not found\n",
      "None\n",
      "Do you want to find the ID in the table? Yes or not?\n",
      "no\n"
     ]
    }
   ],
   "source": [
    "table=[None]*64\n",
    "i=0\n",
    "print (\"Want to add a new ID to the table? Yes or not?\")\n",
    "answer=(input())\n",
    "if answer == \"yes\":\n",
    "    while answer ==\"yes\":\n",
    "        id=(input())\n",
    "        RehashingPseudorandomNumbers.AddRehashingPseudorandomNumbers (table, id, i)\n",
    "        print (\"Want to add a new ID to the table? Yes or not?\")\n",
    "        answer=(input())\n",
    "print (table)\n",
    "print (\"Do you want to find the ID in the table? Yes or not?\")\n",
    "answer=(input())\n",
    "if answer == \"yes\":\n",
    "    while answer ==\"yes\":\n",
    "        id=(input())\n",
    "        hash =RehashingPseudorandomNumbers.SearchRehashingPseudorandomNumbers (table, id)\n",
    "        print (hash)\n",
    "        print (\"Do you want to find the ID in the table? Yes or not?\")\n",
    "        answer=(input())\n",
    "    if hash!= None:\n",
    "        print(\"Do you want to remove the ID from the table? Yes or not?\")\n",
    "        answer=(input())\n",
    "        if answer == \"yes\":\n",
    "            RehashingPseudorandomNumbers.DeleteRehashingPseudorandomNumbers (table, id)\n",
    "            print (table)"
   ]
  },
  {
   "cell_type": "markdown",
   "metadata": {},
   "source": [
    "    "
   ]
  },
  {
   "cell_type": "markdown",
   "metadata": {},
   "source": [
    "    "
   ]
  },
  {
   "cell_type": "markdown",
   "metadata": {},
   "source": [
    "## Метод цепочек"
   ]
  },
  {
   "cell_type": "markdown",
   "metadata": {},
   "source": [
    "При другом подходе к хешированию таблица рассматривается как массив связанных списков или деревьев. Каждый такой список называется блоком (bucket) и содержит записи, отображаемые хеш-функцией в один и тот же табличный адрес. Эта стратегия разрешения коллизий называется методом цепочек.\n",
    "\n",
    "Если таблица является массивом связанных списков, то элемент данных просто вставляется в соответствующий список в качестве нового узла. Чтобы обнаружить элемент данных, нужно применить хеш-функцию для определения нужного связанного списка и выполнить там последовательный поиск.\n",
    "\n"
   ]
  },
  {
   "cell_type": "markdown",
   "metadata": {},
   "source": [
    "### Код программы"
   ]
  },
  {
   "cell_type": "code",
   "execution_count": 9,
   "metadata": {},
   "outputs": [],
   "source": [
    "\"\"\"\n",
    "A chain method class is described here. \n",
    "The class contains three methods: add, search, and delete. \n",
    "A short guide to the variables that are used in rehashing pseudorandom numbers.\n",
    "\n",
    "array -> table where we add IDs\n",
    "key -> the number by which the value can be found\n",
    "id - > IDs that we add to the table\n",
    "hash - > hash code IDs\n",
    "answer -> accepts user responses\n",
    "i - > cycle \"for\" or \"while\" counter\n",
    "k -> auxiliary variables \n",
    "\"\"\"\n",
    "\n",
    "\n",
    "\n",
    "class ChainMethod:\n",
    "    def AddChainMethod (array, id):\n",
    "        hash=0\n",
    "        for i in range (0, len(id)):\n",
    "            hash=ord(id[i])+hash\n",
    "        key=hash%10\n",
    "        array[key].append(id)\n",
    "        return key\n",
    "    \n",
    "    def SearchChainMethod (array, id):\n",
    "        hash=0\n",
    "        for i in range (0, len(id)):\n",
    "            hash=ord(id[i])+hash\n",
    "        key=hash%10\n",
    "        k=0\n",
    "        for i in range (len(array[key])):\n",
    "            if array[key][i]==id:\n",
    "                print(\"Line \", key, \"Element \", i)\n",
    "                k=1\n",
    "        if k==0:\n",
    "            print(\"ID not found\")\n",
    "            return (1)\n",
    "\n",
    "    def DeletChainMethod (array, id):\n",
    "        hash=0\n",
    "        for i in range (0, len(id)):\n",
    "            hash=ord(id[i])+hash\n",
    "        key=hash%10\n",
    "        for i in range (len(array[key])):\n",
    "            if array[key][i]==id:\n",
    "                del(array[key][i])\n",
    "        return (key)"
   ]
  },
  {
   "cell_type": "code",
   "execution_count": 12,
   "metadata": {},
   "outputs": [
    {
     "name": "stdout",
     "output_type": "stream",
     "text": [
      "Want to add a new ID to the table? Yes or not?\n",
      "yes\n",
      "10\n",
      "Want to add a new ID to the table? Yes or not?\n",
      "yes\n",
      "173\n",
      "Want to add a new ID to the table? Yes or not?\n",
      "no\n",
      "[[], [], [], [], [], ['173'], [], ['10'], [], []]\n",
      "Do you want to find the ID in the table? Yes or not?\n",
      "yes\n",
      "16\n",
      "ID not found\n",
      "Do you want to find the ID in the table? Yes or not?\n",
      "yes\n",
      "10\n",
      "Line  7 Element  0\n",
      "Do you want to find the ID in the table? Yes or not?\n",
      "no\n",
      "Do you want to remove the ID from the table? Yes or not?\n",
      "yes\n",
      "[[], [], [], [], [], ['173'], [], [], [], []]\n"
     ]
    }
   ],
   "source": [
    "key=[[]*1 for i in range (10)]\n",
    "print (\"Want to add a new ID to the table? Yes or not?\")\n",
    "answer=(input())\n",
    "if answer == \"yes\":\n",
    "    while answer ==\"yes\":\n",
    "        id=(input())\n",
    "        ChainMethod.AddChainMethod (key, id)\n",
    "        print (\"Want to add a new ID to the table? Yes or not?\")\n",
    "        answer=(input())\n",
    "print (key)\n",
    "\n",
    "print (\"Do you want to find the ID in the table? Yes or not?\")\n",
    "answer=(input())\n",
    "if answer == \"yes\":\n",
    "    while answer ==\"yes\":\n",
    "        id=(input())\n",
    "        hash =ChainMethod.SearchChainMethod (key, id)\n",
    "        print (\"Do you want to find the ID in the table? Yes or not?\")\n",
    "        answer=(input())\n",
    "    if hash!= 1:\n",
    "        print(\"Do you want to remove the ID from the table? Yes or not?\")\n",
    "        answer=(input())\n",
    "        if answer == \"yes\":\n",
    "            hash =ChainMethod.DeletChainMethod (key, id)\n",
    "            print (key)"
   ]
  },
  {
   "cell_type": "code",
   "execution_count": null,
   "metadata": {},
   "outputs": [],
   "source": []
  }
 ],
 "metadata": {
  "kernelspec": {
   "display_name": "Python 3",
   "language": "python",
   "name": "python3"
  },
  "language_info": {
   "codemirror_mode": {
    "name": "ipython",
    "version": 3
   },
   "file_extension": ".py",
   "mimetype": "text/x-python",
   "name": "python",
   "nbconvert_exporter": "python",
   "pygments_lexer": "ipython3",
   "version": "3.8.5"
  }
 },
 "nbformat": 4,
 "nbformat_minor": 4
}

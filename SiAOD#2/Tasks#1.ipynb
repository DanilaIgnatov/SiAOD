{
 "cells": [
  {
   "cell_type": "markdown",
   "metadata": {},
   "source": [
    "# Решение задач по дисциплине СиАОД"
   ]
  },
  {
   "cell_type": "markdown",
   "metadata": {},
   "source": [
    "Задачи из файла \"problems_1.pdf\""
   ]
  },
  {
   "cell_type": "markdown",
   "metadata": {},
   "source": [
    "Задача 1. «Треугольник с максимальным периметром»\n",
    "\n",
    "Массив A состоит из целых положительных чисел - длин отрезков. Составьте из трех отрезков такой треугольник, чтобы его периметр был максимально возможным. Если невозможно составить треугольник с положительной площадью - функция возвращает 0.\n",
    "\n",
    "Пример 1.1:\n",
    "Ввод: [2,1,2]\n",
    "Вывод: 5\n",
    "\n",
    "Пример 1.2:\n",
    "Ввод: [1,2,1]\n",
    "Вывод: 0\n",
    "\n",
    "Пример 1.3:\n",
    "Ввод: [3,2,3,4]\n",
    "Вывод: 10\n",
    "\n",
    "Пример 1.4:\n",
    "Ввод: [3,6,2,3]\n",
    "Вывод: 8\n"
   ]
  },
  {
   "cell_type": "code",
   "execution_count": 1,
   "metadata": {},
   "outputs": [],
   "source": [
    "\n",
    "# Funkciya poiska maksimalnogo perimetra\n",
    "\n",
    "def maxPerimeter(arr):\n",
    "\n",
    "    maxi = 0\n",
    "    n = len(arr)\n",
    "    arr.sort(reverse = True)\n",
    "\n",
    "    for i in range(0, n - 2):\n",
    "        if arr[i] < (arr[i + 1] + arr[i + 2]):\n",
    "            maxi = max(maxi, arr[i] + \n",
    "                       arr[i + 1] + arr[i + 2])\n",
    "            break\n",
    "\n",
    "    if(maxi == 0):\n",
    "        return 0\n",
    "    else:\n",
    "        return str(maxi)\n",
    "\n",
    "def Pr1dop(arr):\n",
    "    \n",
    "    a = maxPerimeter(arr)\n",
    "\n",
    "    print(a)\n"
   ]
  },
  {
   "cell_type": "markdown",
   "metadata": {},
   "source": [
    "Задача 2. «Максимальное число»\n",
    "\n",
    "Дан массив неотрицательных целых чисел nums. Расположите их в таком порядке, чтобы вместе они образовали максимально возможное число. Замечание: Результат может быть очень большим числом, поэтому представьте его как\n",
    "string, а не integer.\n",
    "\n",
    "Пример 2.1:\n",
    "Ввод: nums = [10,2]\n",
    "Вывод: ”210”\n",
    "\n",
    "Пример 2.2:\n",
    "Ввод: nums = [3,30,34,5,9]\n",
    "Вывод: ”9534330”\n",
    "\n",
    "Пример 2.3:\n",
    "Ввод: nums = [1]\n",
    "Вывод: ”1”\n",
    "\n",
    "Пример 2.4:\n",
    "Ввод: nums = [10]\n",
    "Вывод: ”10”"
   ]
  },
  {
   "cell_type": "code",
   "execution_count": 2,
   "metadata": {},
   "outputs": [],
   "source": [
    "##############################################\n",
    "#Funkciyi dlya vtoroi zadachi\n",
    "\n",
    "\n",
    "def Sravnenie(a, b):\n",
    "\n",
    "    ab = str(a) + str(b)\n",
    "    ba = str(b) + str(a)\n",
    "\n",
    "    return ((int(ba) > int(ab)) - (int(ba) < int(ab)))\n",
    "\n",
    "      \n",
    "\n",
    "def myCompare(mycmp):\n",
    "\n",
    "    class K(object):\n",
    "\n",
    "        def __init__(self, obj, *args):\n",
    "\n",
    "            self.obj = obj\n",
    "\n",
    "        def __lt__(self, other):\n",
    "\n",
    "            return mycmp(self.obj, other.obj) < 0\n",
    "\n",
    "        def __gt__(self, other):\n",
    "\n",
    "            return mycmp(self.obj, other.obj) > 0\n",
    "\n",
    "        def __eq__(self, other):\n",
    "\n",
    "            return mycmp(self.obj, other.obj) == 0\n",
    "\n",
    "        def __le__(self, other):\n",
    "\n",
    "            return mycmp(self.obj, other.obj) <= 0\n",
    "\n",
    "        def __ge__(self, other):\n",
    "\n",
    "            return mycmp(self.obj, other.obj) >= 0\n",
    "\n",
    "        def __ne__(self, other):\n",
    "\n",
    "            return mycmp(self.obj, other.obj) != 0\n",
    "\n",
    "    return K\n",
    "\n",
    "\n",
    "\n",
    "def Pr2dop(a):\n",
    "\n",
    "    sorted_array = sorted(a, key=myCompare(Sravnenie))\n",
    "    number = \"\".join([str(i) for i in sorted_array])\n",
    "\n",
    "    print(number)\n"
   ]
  },
  {
   "cell_type": "markdown",
   "metadata": {},
   "source": [
    "Основной блок программы"
   ]
  },
  {
   "cell_type": "code",
   "execution_count": 3,
   "metadata": {
    "scrolled": true
   },
   "outputs": [
    {
     "name": "stdout",
     "output_type": "stream",
     "text": [
      "Zadacha 1\n",
      "5\n",
      "0\n",
      "10\n",
      "8\n",
      "30\n",
      "Zadacha 2\n",
      "210\n",
      "9534330\n",
      "1\n",
      "10\n",
      "\n"
     ]
    }
   ],
   "source": [
    "  \n",
    "#Main block\n",
    "\n",
    "def Program1():\n",
    "\n",
    "    arr = [2, 1, 2]\n",
    "    Pr1dop(arr)\n",
    "    \n",
    "    arr = [1, 2, 1]\n",
    "    Pr1dop(arr)\n",
    "    \n",
    "    arr = [3, 2, 3, 4]\n",
    "    Pr1dop(arr)\n",
    "    \n",
    "    arr = [3, 6, 2, 3]\n",
    "    Pr1dop(arr)\n",
    "    \n",
    "    arr = [7, 2, 9, 14, 5, 3, 1, 1, 2, 6]\n",
    "    Pr1dop(arr)\n",
    "\n",
    "\n",
    "def Program2():\n",
    "    \n",
    "    nums = [10,2]\n",
    "    Pr2dop(nums)\n",
    "    \n",
    "    nums = [3,30,34,5,9]\n",
    "    Pr2dop(nums)\n",
    "    \n",
    "    nums = [1]\n",
    "    Pr2dop(nums)\n",
    "    \n",
    "    nums = [10]\n",
    "    Pr2dop(nums)\n",
    "\n",
    "print(\"Zadacha 1\")\n",
    "Program1()\n",
    "\n",
    "print(\"Zadacha 2\")\n",
    "Program2()\n",
    "\n",
    "print()\n"
   ]
  },
  {
   "cell_type": "markdown",
   "metadata": {},
   "source": [
    "                                             "
   ]
  },
  {
   "cell_type": "markdown",
   "metadata": {},
   "source": [
    "Задачи из файла \"Задачи на дом 27 февраля.docx\"\n"
   ]
  },
  {
   "cell_type": "markdown",
   "metadata": {},
   "source": [
    "Задача 1.\n",
    "\n",
    "В Тридевятом Царстве уже много лет как установилась конституционная монархия. В парламент Тридевятого царства входят 26 партий, обозначаемых строчными буквами английского алфавита от «a» до «z». Заседание парламента в соответствии с регламентом проходит по следующей схеме:\n",
    "\n",
    "● В начале заседания никаких законопроектов на повестке дня не стоит.\n",
    "\n",
    "● Любая партия (в том числе и та, которая внесла текущий законопроект) в любой момент времени может внести на обсуждение новый законопроект.\n",
    "\n",
    "● При вносе партией нового законопроекта обсуждение предыдущего приостанавливается и начинается обсуждение нового. После того, как парламентарии голосуют за новый законопроект, обсуждение законопроекта, прерванного им, продолжается.\n",
    "\n",
    "● Дискуссия по любому законопроекту обязана завершиться голосованием по этому законопроекту.\n",
    "\n",
    "● В конце заседания не должно остаться внесённых законопроектов, дискуссия по которым не завершена.\n",
    "\n",
    "Вам дана запись о событиях на сессии парламента. Каждое событие является либо внесением нового законопроекта, либо голосованием за какой-то законопроект, причём в обоих случаях известен номер партии, этот законопроект предложившей. События даны в том порядке, в котором они происходили. Проверьте, может ли данная запись о событиях соответствовать\n",
    "\n",
    "какому-либо заседанию, удовлетворяющему порядку проведения, описанному выше.\n",
    "\n",
    "Входные данные\n",
    "\n",
    "Первая строка входных данных содержит одно целое число K – количество строк в записи сессии (1 ≤ K ≤ 1000). Каждая строка соответствует одному из двух событий:\n",
    "\n",
    "● Add x – партия x внесла на голосование законопроект.\n",
    "\n",
    "● Vote x – прошло голосование за документ, внесённый партией x.\n",
    "\n",
    "Здесь x – строчная буква английского алфавита от «a» до «z», задающая партию"
   ]
  },
  {
   "cell_type": "code",
   "execution_count": 5,
   "metadata": {},
   "outputs": [
    {
     "name": "stdout",
     "output_type": "stream",
     "text": [
      "Input K\n",
      "5\n",
      "Add x\n",
      "Vote y\n",
      "Add y\n",
      "Vote x\n",
      "Vote x\n",
      "NO\n"
     ]
    }
   ],
   "source": [
    "\n",
    "print(\"Input K\")\n",
    "\n",
    "stack_store = []\n",
    "t = 0\n",
    "\n",
    "K = int(input())\n",
    "\n",
    "for i in range(K):\n",
    "    S = str(input())\n",
    "    \n",
    "    if (S.find(\"Add\") != -1):\n",
    "        stack_store.append(S[4])\n",
    "        \n",
    "    if (S.find(\"Vote\") != -1):\n",
    "        if S[5] != stack_store[-1]:\n",
    "            t = t - 1\n",
    "        elif S[5] == stack_store[-1]:\n",
    "            t = t + 1\n",
    "            stack_store.pop()\n",
    "        elif stack_store == []:\n",
    "            t = t - 1\n",
    "        \n",
    "\n",
    "if stack_store != []:\n",
    "    t = t - 1\n",
    "    \n",
    "if (t == (K / 2)) or ((K == 1) and (S == \"\")):\n",
    "    print(\"YES\")\n",
    "else:\n",
    "    print(\"NO\")"
   ]
  },
  {
   "cell_type": "markdown",
   "metadata": {},
   "source": [
    "Задача 2. Правильный подмногоугольник\n",
    "\n",
    "Задан правильный N-угольник. Требуется выбрать наименьшее количество его вершин, которые также образуют правильный многоугольник.\n",
    "\n",
    "Входные данные содержат одно целое число N (3 ≤ N ≤ 1012).\n",
    "\n",
    "Вывод\n",
    "\n",
    "Выведите одно число — наименьшее количество вершин заданного многоугольника, которые образуют правильный многоугольник.\n"
   ]
  },
  {
   "cell_type": "code",
   "execution_count": 6,
   "metadata": {},
   "outputs": [
    {
     "name": "stdout",
     "output_type": "stream",
     "text": [
      "Input N\n",
      "21\n",
      "3\n"
     ]
    }
   ],
   "source": [
    "from math import *\n",
    "\n",
    "print(\"Input N\")\n",
    "\n",
    "N = int(input())\n",
    "t = 0\n",
    "\n",
    "if (N % 3) == 0:\n",
    "    print('3')\n",
    "elif (N % 2) == 1:\n",
    "    for i in range(2, floor(sqrt(N)) + 1, 1):\n",
    "        if (N % i) == 0:\n",
    "            print(i)\n",
    "            break\n",
    "elif ((N % 2) == 0) and ((N % 4) != 0):\n",
    "    for i in range(3, floor(sqrt(N)), 2):\n",
    "        if (N % i) == 0:\n",
    "            t = i\n",
    "            break\n",
    "    if t == 0:\n",
    "        print(N // 2)\n",
    "    else:\n",
    "        print(t)\n",
    "elif ((N % 4) == 0):\n",
    "    print('4')\n",
    "else:\n",
    "    for i in range(3, N + 1, 1):\n",
    "        if (N % i) == 0:\n",
    "            print(i)\n",
    "            break\n"
   ]
  }
 ],
 "metadata": {
  "kernelspec": {
   "display_name": "Python 3",
   "language": "python",
   "name": "python3"
  },
  "language_info": {
   "codemirror_mode": {
    "name": "ipython",
    "version": 3
   },
   "file_extension": ".py",
   "mimetype": "text/x-python",
   "name": "python",
   "nbconvert_exporter": "python",
   "pygments_lexer": "ipython3",
   "version": "3.8.5"
  }
 },
 "nbformat": 4,
 "nbformat_minor": 4
}

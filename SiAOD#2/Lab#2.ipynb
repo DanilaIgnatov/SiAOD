{
 "cells": [
  {
   "cell_type": "markdown",
   "metadata": {},
   "source": [
    "# Лабораторная работа №2\n",
    "# Методы поиска\n"
   ]
  },
  {
   "cell_type": "markdown",
   "metadata": {},
   "source": [
    "Для начала объявим библиотеки, кооторые мы будем использовать"
   ]
  },
  {
   "cell_type": "code",
   "execution_count": 1,
   "metadata": {},
   "outputs": [],
   "source": [
    "from random import randint"
   ]
  },
  {
   "cell_type": "markdown",
   "metadata": {},
   "source": [
    "Опишем метод, в котором будет создаваться массив. В этом массиве и будем искать элемент"
   ]
  },
  {
   "cell_type": "code",
   "execution_count": 2,
   "metadata": {},
   "outputs": [],
   "source": [
    "\"\"\"\n",
    "Method arrays\n",
    "Sozdanie massiva\n",
    "\"\"\"\n",
    "\n",
    "def BildArray(n):\n",
    "    c = [randint(100, 999) for i in range(n)]\n",
    "    \n",
    "    return c\n",
    "\n"
   ]
  },
  {
   "cell_type": "markdown",
   "metadata": {},
   "source": [
    "Опишем первый метод поиска\n",
    "\n",
    "Бинарный поиск\n",
    "\n",
    "Суть метода:\n",
    "\n",
    "1. Находится средний элемент последовательности. Для этого первый и последний элементы связываются с переменными, а средний вычисляется.\n",
    "2. Средний элемент сравнивается с искомым значение. В зависимости от того, больше оно или меньше среднего элемента, дальнейший поиск будет происходить лишь в левой или правой половинах массива. Если значение среднего элемента окажется равным искомому, то поиск завершен.\n",
    "3. Одна из границ исследуемой последовательности становится равной предыдущему или последующему среднему элементу из п.2.\n",
    "4. Снова находится средний элемент, теперь уже в «выбранной» половине. Описанный выше алгоритм повторяется уже для данной последовательности."
   ]
  },
  {
   "cell_type": "code",
   "execution_count": 3,
   "metadata": {},
   "outputs": [],
   "source": [
    "\"\"\"\n",
    "SEARCH\n",
    "Metodi poiska binarnii\n",
    "\"\"\"\n",
    "def BinSrch(a, x):\n",
    "    i = 0\n",
    "    j = len(a)-1\n",
    "    m = int(j/2)\n",
    "    while a[m] != x and i < j:\n",
    "        if x > a[m]:\n",
    "            i = m+1\n",
    "        else:\n",
    "            j = m-1\n",
    "        m = int((i+j)/2)\n",
    "    if i > j:\n",
    "        return 'False'\n",
    "    else:\n",
    "        return 'True'\n",
    "\n"
   ]
  },
  {
   "cell_type": "markdown",
   "metadata": {},
   "source": [
    "Опишем второй метод поиска\n",
    "\n",
    "Поиск Фибоначи\n",
    "\n",
    "Суть метода:\n",
    "\n",
    "Метод использует числа Фибоначчи для вычисления размера блока или диапазона поиска на каждом шаге. \n",
    "Алгоритм работает с тремя числами Фибоначчи одновременно. Давайте назовем эти три числа fibM, fibM_minus_1 и fibM_minus_2. Где fibM_minus_1 и fibM_minus_2 — это два числа, предшествующих fibM в последовательности:\n",
    "\n",
    "fibM = fibM_minus_1 + fibM_minus_2\n",
    "\n",
    "Мы инициализируем значения 0, 1, 1 или первые три числа в последовательности Фибоначчи. Это поможет нам избежать  IndexError в случае, когда наш массив lys содержит очень маленькое количество элементов.\n",
    "\n",
    "Затем мы выбираем наименьшее число последовательности Фибоначчи, которое больше или равно числу элементов в нашем массиве lys, в качестве значения fibM. А два числа Фибоначчи непосредственно перед ним — в качестве значений fibM_minus_1 и fibM_minus_2. Пока в массиве есть элементы и значение fibM больше единицы, мы:\n",
    "\n",
    "Сравниваем val со значением блока в диапазоне до fibM_minus_2 и возвращаем индекс элемента, если он совпадает.\n",
    "Если значение больше, чем элемент, который мы в данный момент просматриваем, мы перемещаем значения fibM, fibM_minus_1 и fibM_minus_2 на два шага вниз в последовательности Фибоначчи и меняем индекс на индекс элемента.\n",
    "Если значение меньше, чем элемент, который мы в данный момент просматриваем, мы перемещаем значения fibM, fibM_minus_1 и fibM_minus_2 на один шаг вниз в последовательности Фибоначчи."
   ]
  },
  {
   "cell_type": "code",
   "execution_count": 4,
   "metadata": {},
   "outputs": [],
   "source": [
    "\"\"\"\n",
    "SEARCH\n",
    "Metodi poiska fibonachi\n",
    "\"\"\"\n",
    "def FibSrch(a, x):\n",
    "    fibM_minus_2 = 0\n",
    "    fibM_minus_1 = 1\n",
    "    fibM = fibM_minus_1 + fibM_minus_2\n",
    "    while (fibM < len(a)):\n",
    "        fibM_minus_2 = fibM_minus_1\n",
    "        fibM_minus_1 = fibM\n",
    "        fibM = fibM_minus_1 + fibM_minus_2\n",
    "    index = -1;\n",
    "    while (fibM > 1):\n",
    "        i = min(index + fibM_minus_2, (len(a)-1))\n",
    "        if (a[i] < x):\n",
    "            fibM = fibM_minus_1\n",
    "            fibM_minus_1 = fibM_minus_2\n",
    "            fibM_minus_2 = fibM - fibM_minus_1\n",
    "            index = i\n",
    "        elif (a[i] > x):\n",
    "            fibM = fibM_minus_2\n",
    "            fibM_minus_1 = fibM_minus_1 - fibM_minus_2\n",
    "            fibM_minus_2 = fibM - fibM_minus_1\n",
    "        else :\n",
    "            return True\n",
    "    if(fibM_minus_1 and index < (len(a)-1) and a[index+1] == x):\n",
    "        return index + 1;\n",
    "    return False\n",
    "\n"
   ]
  },
  {
   "cell_type": "markdown",
   "metadata": {},
   "source": [
    "Опишем третий метод поиска\n",
    "\n",
    "Интерполяционный поиск\n",
    "\n",
    "Интерполяционный поиск — это еще один алгоритм «разделяй и властвуй», аналогичный бинарному поиску. В отличие от бинарного поиска, он не всегда начинает поиск с середины. Интерполяционный поиск вычисляет вероятную позицию искомого элемента по формуле:\n",
    "\n",
    "index = low + [(val-lys[low])*(high-low) / (lys[high]-lys[low])]\n",
    "В этой формуле используются следующие переменные:\n",
    "\n",
    "lys — наш входной массив.\n",
    "val — искомый элемент.\n",
    "index — вероятный индекс искомого элемента. Он вычисляется как более высокое значение, когда значение val ближе по значению к элементу в конце массива (lys[high]), и более низкое, когда значение val ближе по значению к элементу в начале массива (lys[low]).\n",
    "low — начальный индекс массива.\n",
    "high — последний индекс массива.\n",
    "Алгоритм осуществляет поиск путем вычисления значения индекса:\n",
    "\n",
    "Если значение найдено (когда lys[index] == val), возвращается индекс.\n",
    "Если значение val меньше lys[index], то значение индекса пересчитывается по формуле для левого подмассива.\n",
    "Если значение val больше lys[index], то значение индекса пересчитывается по формуле для правого подмассива."
   ]
  },
  {
   "cell_type": "code",
   "execution_count": 5,
   "metadata": {},
   "outputs": [],
   "source": [
    "\"\"\"\n",
    "SEARCH\n",
    "Metodi poiska InterpSrch\n",
    "\"\"\"\n",
    "def InterpSrch(a, x):\n",
    "    low = 0\n",
    "    high = (len(a) - 1)\n",
    "    while low <= high and x >= a[low] and x <= a[high]:\n",
    "        index = low + int(((float(high - low) / ( a[high] - a[low])) * ( x - a[low])))\n",
    "        if a[index] == x:\n",
    "            return True\n",
    "        if a[index] < x:\n",
    "            low = index + 1;\n",
    "        else:\n",
    "            high = index - 1;\n",
    "    return False\n",
    "    \n"
   ]
  },
  {
   "cell_type": "markdown",
   "metadata": {},
   "source": [
    "Опишем тело программы \n",
    "\n",
    "Создадим массив и сделаем вывод на экран\n"
   ]
  },
  {
   "cell_type": "code",
   "execution_count": 6,
   "metadata": {},
   "outputs": [
    {
     "name": "stdout",
     "output_type": "stream",
     "text": [
      "[819, 625, 677, 463, 867, 543, 350, 778, 564, 900, 860, 801, 656, 572, 880, 166, 825, 899, 414, 759, 459, 204, 213, 373, 104, 459, 272, 123, 179, 107, 137, 988, 599, 797, 334, 246, 821, 176, 935, 233, 418, 411, 302, 244, 531, 309, 137, 342, 641, 644]\n"
     ]
    }
   ],
   "source": [
    "\"\"\"\n",
    "Body program\n",
    "\"\"\"\n",
    "#Sozdanie massiva i vivod na ekran\n",
    "n = 50\n",
    "a = BildArray(n)\n",
    "print(a)\n"
   ]
  },
  {
   "cell_type": "markdown",
   "metadata": {},
   "source": [
    "Отсортируем массив, используя стандартную сортировку"
   ]
  },
  {
   "cell_type": "code",
   "execution_count": 7,
   "metadata": {},
   "outputs": [
    {
     "name": "stdout",
     "output_type": "stream",
     "text": [
      "[104, 107, 123, 137, 137, 166, 176, 179, 204, 213, 233, 244, 246, 272, 302, 309, 334, 342, 350, 373, 411, 414, 418, 459, 459, 463, 531, 543, 564, 572, 599, 625, 641, 644, 656, 677, 759, 778, 797, 801, 819, 821, 825, 860, 867, 880, 899, 900, 935, 988]\n"
     ]
    }
   ],
   "source": [
    "#Sortirovka massiva i vivod na ekran\n",
    "a.sort()\n",
    "print(a)"
   ]
  },
  {
   "cell_type": "markdown",
   "metadata": {},
   "source": [
    "Организуем ввод числа х"
   ]
  },
  {
   "cell_type": "code",
   "execution_count": 8,
   "metadata": {},
   "outputs": [
    {
     "name": "stdout",
     "output_type": "stream",
     "text": [
      "input x\n",
      "233\n"
     ]
    }
   ],
   "source": [
    "print('input x')\n",
    "x = int(input())"
   ]
  },
  {
   "cell_type": "markdown",
   "metadata": {},
   "source": [
    "Встроенный поиск"
   ]
  },
  {
   "cell_type": "code",
   "execution_count": 9,
   "metadata": {},
   "outputs": [
    {
     "name": "stdout",
     "output_type": "stream",
     "text": [
      "True\n"
     ]
    }
   ],
   "source": [
    "#Vstroennii poisk\n",
    "print(x in a)"
   ]
  },
  {
   "cell_type": "markdown",
   "metadata": {},
   "source": [
    "Бинарный поиск"
   ]
  },
  {
   "cell_type": "code",
   "execution_count": 10,
   "metadata": {},
   "outputs": [
    {
     "name": "stdout",
     "output_type": "stream",
     "text": [
      "True\n"
     ]
    }
   ],
   "source": [
    "#binarnii poisk\n",
    "print(BinSrch(a, x))"
   ]
  },
  {
   "cell_type": "markdown",
   "metadata": {},
   "source": [
    "Поиск Фибоначи"
   ]
  },
  {
   "cell_type": "code",
   "execution_count": 11,
   "metadata": {},
   "outputs": [
    {
     "name": "stdout",
     "output_type": "stream",
     "text": [
      "True\n"
     ]
    }
   ],
   "source": [
    "#fibonachi poisk\n",
    "print(FibSrch(a, x))"
   ]
  },
  {
   "cell_type": "markdown",
   "metadata": {},
   "source": [
    "Интерполяционный поиск"
   ]
  },
  {
   "cell_type": "code",
   "execution_count": 12,
   "metadata": {},
   "outputs": [
    {
     "name": "stdout",
     "output_type": "stream",
     "text": [
      "True\n"
     ]
    }
   ],
   "source": [
    "#interpolacionnii poisk\n",
    "print(InterpSrch(a, x))"
   ]
  },
  {
   "cell_type": "markdown",
   "metadata": {},
   "source": [
    "Первая часть лабораторной работы"
   ]
  }
 ],
 "metadata": {
  "kernelspec": {
   "display_name": "Python 3",
   "language": "python",
   "name": "python3"
  },
  "language_info": {
   "codemirror_mode": {
    "name": "ipython",
    "version": 3
   },
   "file_extension": ".py",
   "mimetype": "text/x-python",
   "name": "python",
   "nbconvert_exporter": "python",
   "pygments_lexer": "ipython3",
   "version": "3.8.5"
  }
 },
 "nbformat": 4,
 "nbformat_minor": 4
}
